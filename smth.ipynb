{
 "cells": [
  {
   "cell_type": "markdown",
   "metadata": {},
   "source": [
    "# НОЖ"
   ]
  },
  {
   "cell_type": "markdown",
   "metadata": {},
   "source": [
    "что за нож?  \n",
    "«Нож» — развлекательный онлайн-журнал для умных людей  \n",
    "http://knife.media/"
   ]
  },
  {
   "cell_type": "markdown",
   "metadata": {},
   "source": [
    "ну и"
   ]
  },
  {
   "cell_type": "markdown",
   "metadata": {},
   "source": [
    "# Парсер, короче\n",
    "by gurtle"
   ]
  },
  {
   "cell_type": "markdown",
   "metadata": {},
   "source": [
    "![alt text](cat1.gif)"
   ]
  },
  {
   "cell_type": "markdown",
   "metadata": {},
   "source": [
    "### Импорты всего нужного\n",
    "что нужно и зачем нужно?<br />\n",
    "urllib.request - ну, все и так понятно  \n",
    "супчик - доставть теги и их содержимое  \n",
    "unicodedata - чтоб лишний раз не мучиться с кодировками"
   ]
  },
  
 "nbformat": 4,
 "nbformat_minor": 2
}
